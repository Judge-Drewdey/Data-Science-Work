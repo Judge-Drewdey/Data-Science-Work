{
 "cells": [
  {
   "cell_type": "code",
   "id": "initial_id",
   "metadata": {
    "collapsed": true,
    "ExecuteTime": {
     "end_time": "2025-04-15T20:41:13.970844Z",
     "start_time": "2025-04-15T20:41:12.179190Z"
    }
   },
   "source": [
    "import cfbd\n",
    "import pandas as pd\n",
    "from cfbd.models.play import Play\n",
    "from sklearn import linear_model\n",
    "from sklearn.cluster import HDBSCAN, KMeans\n",
    "from sklearn import svm\n",
    "plays_df = pd.read_csv('plays.csv')\n",
    "plays_df.drop(columns = ['Unnamed: 0', '0'], inplace = True)"
   ],
   "outputs": [],
   "execution_count": 1
  },
  {
   "metadata": {},
   "cell_type": "code",
   "outputs": [],
   "execution_count": null,
   "source": "",
   "id": "b18eba7fc463cccd"
  }
 ],
 "metadata": {
  "kernelspec": {
   "display_name": "Python 3",
   "language": "python",
   "name": "python3"
  },
  "language_info": {
   "codemirror_mode": {
    "name": "ipython",
    "version": 2
   },
   "file_extension": ".py",
   "mimetype": "text/x-python",
   "name": "python",
   "nbconvert_exporter": "python",
   "pygments_lexer": "ipython2",
   "version": "2.7.6"
  }
 },
 "nbformat": 4,
 "nbformat_minor": 5
}
